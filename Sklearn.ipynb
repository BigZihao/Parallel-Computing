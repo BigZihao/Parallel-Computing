{
 "cells": [
  {
   "cell_type": "code",
   "execution_count": 54,
   "metadata": {
    "collapsed": true
   },
   "outputs": [],
   "source": [
    "# imports\n",
    "import pandas as pd\n",
    "import matplotlib.pyplot as plt\n",
    "# this allows plots to appear directly in the notebook\n",
    "%matplotlib inline"
   ]
  },
  {
   "cell_type": "code",
   "execution_count": 3,
   "metadata": {
    "collapsed": false
   },
   "outputs": [
    {
     "data": {
      "text/html": [
       "<div>\n",
       "<table border=\"1\" class=\"dataframe\">\n",
       "  <thead>\n",
       "    <tr style=\"text-align: right;\">\n",
       "      <th></th>\n",
       "      <th>X1</th>\n",
       "      <th>X2</th>\n",
       "      <th>X3</th>\n",
       "      <th>X4</th>\n",
       "      <th>X5</th>\n",
       "      <th>X6</th>\n",
       "      <th>X7</th>\n",
       "      <th>X8</th>\n",
       "      <th>X9</th>\n",
       "      <th>X10</th>\n",
       "      <th>Y</th>\n",
       "    </tr>\n",
       "  </thead>\n",
       "  <tbody>\n",
       "    <tr>\n",
       "      <th>1</th>\n",
       "      <td>-13.014346</td>\n",
       "      <td>23.046831</td>\n",
       "      <td>7.705830</td>\n",
       "      <td>4.009119</td>\n",
       "      <td>5.791290</td>\n",
       "      <td>-5.942119</td>\n",
       "      <td>-3.926912</td>\n",
       "      <td>9.190385</td>\n",
       "      <td>12.641869</td>\n",
       "      <td>-25.103294</td>\n",
       "      <td>-1638.000533</td>\n",
       "    </tr>\n",
       "    <tr>\n",
       "      <th>2</th>\n",
       "      <td>-5.563790</td>\n",
       "      <td>-1.215983</td>\n",
       "      <td>0.813668</td>\n",
       "      <td>-9.796164</td>\n",
       "      <td>-1.200368</td>\n",
       "      <td>-14.770016</td>\n",
       "      <td>-11.070837</td>\n",
       "      <td>7.545220</td>\n",
       "      <td>-19.268883</td>\n",
       "      <td>10.934410</td>\n",
       "      <td>-613.651983</td>\n",
       "    </tr>\n",
       "    <tr>\n",
       "      <th>3</th>\n",
       "      <td>-4.111258</td>\n",
       "      <td>-9.015128</td>\n",
       "      <td>0.714845</td>\n",
       "      <td>16.777348</td>\n",
       "      <td>-5.576047</td>\n",
       "      <td>-0.437781</td>\n",
       "      <td>-0.572242</td>\n",
       "      <td>-6.591890</td>\n",
       "      <td>-0.561702</td>\n",
       "      <td>8.232941</td>\n",
       "      <td>590.328609</td>\n",
       "    </tr>\n",
       "    <tr>\n",
       "      <th>4</th>\n",
       "      <td>5.166051</td>\n",
       "      <td>5.792263</td>\n",
       "      <td>10.105854</td>\n",
       "      <td>4.247606</td>\n",
       "      <td>10.716544</td>\n",
       "      <td>16.462863</td>\n",
       "      <td>-5.633654</td>\n",
       "      <td>-0.074374</td>\n",
       "      <td>15.116166</td>\n",
       "      <td>-30.846570</td>\n",
       "      <td>607.380150</td>\n",
       "    </tr>\n",
       "    <tr>\n",
       "      <th>5</th>\n",
       "      <td>-8.393955</td>\n",
       "      <td>5.564850</td>\n",
       "      <td>8.634882</td>\n",
       "      <td>13.440440</td>\n",
       "      <td>15.720117</td>\n",
       "      <td>-16.197428</td>\n",
       "      <td>3.570306</td>\n",
       "      <td>-6.356612</td>\n",
       "      <td>4.279428</td>\n",
       "      <td>-1.037903</td>\n",
       "      <td>-598.245553</td>\n",
       "    </tr>\n",
       "  </tbody>\n",
       "</table>\n",
       "</div>"
      ],
      "text/plain": [
       "          X1         X2         X3         X4         X5         X6  \\\n",
       "1 -13.014346  23.046831   7.705830   4.009119   5.791290  -5.942119   \n",
       "2  -5.563790  -1.215983   0.813668  -9.796164  -1.200368 -14.770016   \n",
       "3  -4.111258  -9.015128   0.714845  16.777348  -5.576047  -0.437781   \n",
       "4   5.166051   5.792263  10.105854   4.247606  10.716544  16.462863   \n",
       "5  -8.393955   5.564850   8.634882  13.440440  15.720117 -16.197428   \n",
       "\n",
       "          X7        X8         X9        X10            Y  \n",
       "1  -3.926912  9.190385  12.641869 -25.103294 -1638.000533  \n",
       "2 -11.070837  7.545220 -19.268883  10.934410  -613.651983  \n",
       "3  -0.572242 -6.591890  -0.561702   8.232941   590.328609  \n",
       "4  -5.633654 -0.074374  15.116166 -30.846570   607.380150  \n",
       "5   3.570306 -6.356612   4.279428  -1.037903  -598.245553  "
      ]
     },
     "execution_count": 3,
     "metadata": {},
     "output_type": "execute_result"
    }
   ],
   "source": [
    "data = pd.read_csv('s3://analytic-partners-sparktest/test.csv', index_col=0)\n",
    "data.head()"
   ]
  },
  {
   "cell_type": "code",
   "execution_count": 23,
   "metadata": {
    "collapsed": false
   },
   "outputs": [
    {
     "name": "stdout",
     "output_type": "stream",
     "text": [
      "--- 3.4133412837982178 seconds ---\n",
      "[  1.00887688   1.97717783   2.99673318   3.99057588   4.98238191\n",
      "   6.00236497   7.04115635   7.92452217   8.94738358  10.03835694]\n",
      "0.312271053282\n"
     ]
    }
   ],
   "source": [
    "X=data.drop('Y', 1)\n",
    "y = data.Y\n",
    "\n",
    "# follow the usual sklearn pattern: import, instantiate, fit\n",
    "from sklearn.linear_model import LinearRegression\n",
    "lm = LinearRegression()\n",
    "import time\n",
    "start_time = time.time()\n",
    "lm.fit(X, y)\n",
    "print(\"--- %s seconds ---\" % (time.time() - start_time))\n",
    "\n",
    "# print intercept and coefficients\n",
    "print (lm.coef_)\n",
    "print (lm.intercept_)"
   ]
  },
  {
   "cell_type": "code",
   "execution_count": 42,
   "metadata": {
    "collapsed": false
   },
   "outputs": [
    {
     "name": "stdout",
     "output_type": "stream",
     "text": [
      "--- 0.0020003318786621094 seconds ---\n",
      "0.001\n",
      "                            OLS Regression Results                            \n",
      "==============================================================================\n",
      "Dep. Variable:                      Y   R-squared:                       0.039\n",
      "Model:                            OLS   Adj. R-squared:                  0.038\n",
      "Method:                 Least Squares   F-statistic:                     40.71\n",
      "Date:                Thu, 20 Apr 2017   Prob (F-statistic):           1.42e-79\n",
      "Time:                        16:28:00   Log-Likelihood:                -83222.\n",
      "No. Observations:               10000   AIC:                         1.665e+05\n",
      "Df Residuals:                    9989   BIC:                         1.665e+05\n",
      "Df Model:                          10                                         \n",
      "Covariance Type:            nonrobust                                         \n",
      "==============================================================================\n",
      "                 coef    std err          t      P>|t|      [0.025      0.975]\n",
      "------------------------------------------------------------------------------\n",
      "X1             0.5409      0.990      0.547      0.585      -1.399       2.481\n",
      "X2             2.2337      1.006      2.220      0.026       0.261       4.206\n",
      "X3             2.0987      0.990      2.119      0.034       0.158       4.040\n",
      "X4             4.4519      0.995      4.476      0.000       2.502       6.402\n",
      "X5             4.2051      0.995      4.227      0.000       2.255       6.155\n",
      "X6             5.6567      0.996      5.679      0.000       3.704       7.609\n",
      "X7             7.7601      0.987      7.860      0.000       5.825       9.695\n",
      "X8             6.9687      1.004      6.943      0.000       5.001       8.936\n",
      "X9             9.1955      1.002      9.178      0.000       7.232      11.159\n",
      "X10           11.3981      0.997     11.429      0.000       9.443      13.353\n",
      "Intercept     -2.8292     10.461     -0.270      0.787     -23.336      17.677\n",
      "==============================================================================\n",
      "Omnibus:                        0.906   Durbin-Watson:                   2.021\n",
      "Prob(Omnibus):                  0.636   Jarque-Bera (JB):                0.875\n",
      "Skew:                          -0.020   Prob(JB):                        0.646\n",
      "Kurtosis:                       3.022   Cond. No.                         11.1\n",
      "==============================================================================\n",
      "\n",
      "Warnings:\n",
      "[1] Standard Errors assume that the covariance matrix of the errors is correctly specified.\n",
      "--- 0.04000401496887207 seconds ---\n",
      "0.01\n",
      "                            OLS Regression Results                            \n",
      "==============================================================================\n",
      "Dep. Variable:                      Y   R-squared:                       0.037\n",
      "Model:                            OLS   Adj. R-squared:                  0.037\n",
      "Method:                 Least Squares   F-statistic:                     381.5\n",
      "Date:                Thu, 20 Apr 2017   Prob (F-statistic):               0.00\n",
      "Time:                        16:28:00   Log-Likelihood:            -8.3280e+05\n",
      "No. Observations:              100000   AIC:                         1.666e+06\n",
      "Df Residuals:                   99989   BIC:                         1.666e+06\n",
      "Df Model:                          10                                         \n",
      "Covariance Type:            nonrobust                                         \n",
      "==============================================================================\n",
      "                 coef    std err          t      P>|t|      [0.025      0.975]\n",
      "------------------------------------------------------------------------------\n",
      "X1             1.0523      0.317      3.319      0.001       0.431       1.674\n",
      "X2             1.3148      0.317      4.151      0.000       0.694       1.936\n",
      "X3             3.2784      0.315     10.406      0.000       2.661       3.896\n",
      "X4             4.6717      0.317     14.759      0.000       4.051       5.292\n",
      "X5             5.3125      0.316     16.793      0.000       4.692       5.933\n",
      "X6             5.5567      0.317     17.530      0.000       4.935       6.178\n",
      "X7             7.1312      0.317     22.500      0.000       6.510       7.752\n",
      "X8             7.8217      0.318     24.583      0.000       7.198       8.445\n",
      "X9             8.8914      0.317     28.055      0.000       8.270       9.513\n",
      "X10            9.8243      0.317     31.002      0.000       9.203      10.445\n",
      "Intercept      3.2422      3.320      0.977      0.329      -3.265       9.749\n",
      "==============================================================================\n",
      "Omnibus:                        0.590   Durbin-Watson:                   2.010\n",
      "Prob(Omnibus):                  0.744   Jarque-Bera (JB):                0.580\n",
      "Skew:                          -0.005   Prob(JB):                        0.748\n",
      "Kurtosis:                       3.008   Cond. No.                         11.0\n",
      "==============================================================================\n",
      "\n",
      "Warnings:\n",
      "[1] Standard Errors assume that the covariance matrix of the errors is correctly specified.\n",
      "--- 0.562056303024292 seconds ---\n",
      "0.1\n",
      "                            OLS Regression Results                            \n",
      "==============================================================================\n",
      "Dep. Variable:                      Y   R-squared:                       0.037\n",
      "Model:                            OLS   Adj. R-squared:                  0.037\n",
      "Method:                 Least Squares   F-statistic:                     3827.\n",
      "Date:                Thu, 20 Apr 2017   Prob (F-statistic):               0.00\n",
      "Time:                        16:28:01   Log-Likelihood:            -8.3272e+06\n",
      "No. Observations:             1000000   AIC:                         1.665e+07\n",
      "Df Residuals:                  999989   BIC:                         1.665e+07\n",
      "Df Model:                          10                                         \n",
      "Covariance Type:            nonrobust                                         \n",
      "==============================================================================\n",
      "                 coef    std err          t      P>|t|      [0.025      0.975]\n",
      "------------------------------------------------------------------------------\n",
      "X1             1.0235      0.100     10.225      0.000       0.827       1.220\n",
      "X2             1.9113      0.100     19.130      0.000       1.715       2.107\n",
      "X3             2.9529      0.100     29.529      0.000       2.757       3.149\n",
      "X4             4.0555      0.100     40.584      0.000       3.860       4.251\n",
      "X5             5.1063      0.100     51.015      0.000       4.910       5.302\n",
      "X6             5.9901      0.100     59.863      0.000       5.794       6.186\n",
      "X7             7.0588      0.100     70.534      0.000       6.863       7.255\n",
      "X8             7.9533      0.100     79.421      0.000       7.757       8.150\n",
      "X9             8.9329      0.100     89.281      0.000       8.737       9.129\n",
      "X10            9.9374      0.100     99.261      0.000       9.741      10.134\n",
      "Intercept      0.4640      1.050      0.442      0.659      -1.594       2.522\n",
      "==============================================================================\n",
      "Omnibus:                        4.030   Durbin-Watson:                   1.999\n",
      "Prob(Omnibus):                  0.133   Jarque-Bera (JB):                4.027\n",
      "Skew:                          -0.005   Prob(JB):                        0.134\n",
      "Kurtosis:                       3.002   Cond. No.                         11.0\n",
      "==============================================================================\n",
      "\n",
      "Warnings:\n",
      "[1] Standard Errors assume that the covariance matrix of the errors is correctly specified.\n",
      "--- 5.7005698680877686 seconds ---\n",
      "1\n",
      "                            OLS Regression Results                            \n",
      "==============================================================================\n",
      "Dep. Variable:                      Y   R-squared:                       0.037\n",
      "Model:                            OLS   Adj. R-squared:                  0.037\n",
      "Method:                 Least Squares   F-statistic:                 3.838e+04\n",
      "Date:                Thu, 20 Apr 2017   Prob (F-statistic):               0.00\n",
      "Time:                        16:28:09   Log-Likelihood:            -8.3267e+07\n",
      "No. Observations:            10000000   AIC:                         1.665e+08\n",
      "Df Residuals:                 9999989   BIC:                         1.665e+08\n",
      "Df Model:                          10                                         \n",
      "Covariance Type:            nonrobust                                         \n",
      "==============================================================================\n",
      "                 coef    std err          t      P>|t|      [0.025      0.975]\n",
      "------------------------------------------------------------------------------\n",
      "X1             1.0089      0.032     31.912      0.000       0.947       1.071\n",
      "X2             1.9772      0.032     62.530      0.000       1.915       2.039\n",
      "X3             2.9967      0.032     94.755      0.000       2.935       3.059\n",
      "X4             3.9906      0.032    126.193      0.000       3.929       4.053\n",
      "X5             4.9824      0.032    157.552      0.000       4.920       5.044\n",
      "X6             6.0024      0.032    189.758      0.000       5.940       6.064\n",
      "X7             7.0412      0.032    222.704      0.000       6.979       7.103\n",
      "X8             7.9245      0.032    250.566      0.000       7.863       7.987\n",
      "X9             8.9474      0.032    282.778      0.000       8.885       9.009\n",
      "X10           10.0384      0.032    317.443      0.000       9.976      10.100\n",
      "Intercept      0.3123      0.332      0.941      0.346      -0.338       0.962\n",
      "==============================================================================\n",
      "Omnibus:                        1.584   Durbin-Watson:                   2.000\n",
      "Prob(Omnibus):                  0.453   Jarque-Bera (JB):                1.583\n",
      "Skew:                          -0.000   Prob(JB):                        0.453\n",
      "Kurtosis:                       3.002   Cond. No.                         11.0\n",
      "==============================================================================\n",
      "\n",
      "Warnings:\n",
      "[1] Standard Errors assume that the covariance matrix of the errors is correctly specified.\n"
     ]
    }
   ],
   "source": [
    "import statsmodels.api as sm\n",
    "X2=X\n",
    "X2['Intercept']=1\n",
    "import time\n",
    "runtime=[]\n",
    "\n",
    "for i in [0.001,0.01,0.1,1]:\n",
    "    X3=X2[0:int(i*X.shape[0])]\n",
    "    y2=y[0:int(i*X.shape[0])]\n",
    "    model = sm.OLS(y2,X3)\n",
    "    start_time = time.time()\n",
    "    results = model.fit()\n",
    "    tem=time.time() - start_time\n",
    "    runtime.append(tem)\n",
    "    print(\"--- %s seconds ---\" % (tem))\n",
    "    print(i)\n",
    "    print(results.summary())\n",
    "    "
   ]
  },
  {
   "cell_type": "code",
   "execution_count": 43,
   "metadata": {
    "collapsed": false
   },
   "outputs": [
    {
     "data": {
      "text/plain": [
       "[0.0020003318786621094,\n",
       " 0.04000401496887207,\n",
       " 0.562056303024292,\n",
       " 5.7005698680877686]"
      ]
     },
     "execution_count": 43,
     "metadata": {},
     "output_type": "execute_result"
    }
   ],
   "source": [
    "runtime"
   ]
  },
  {
   "cell_type": "code",
   "execution_count": 55,
   "metadata": {
    "collapsed": false
   },
   "outputs": [
    {
     "name": "stdout",
     "output_type": "stream",
     "text": [
      "Checking whether there is an H2O instance running at http://localhost:54321. connected.\n"
     ]
    },
    {
     "data": {
      "text/html": [
       "<div style=\"overflow:auto\"><table style=\"width:50%\"><tr><td>H2O cluster uptime:</td>\n",
       "<td>8 mins 37 secs</td></tr>\n",
       "<tr><td>H2O cluster version:</td>\n",
       "<td>3.10.4.5</td></tr>\n",
       "<tr><td>H2O cluster version age:</td>\n",
       "<td>23 hours and 44 minutes </td></tr>\n",
       "<tr><td>H2O cluster name:</td>\n",
       "<td>H2O_from_python_zihao_zhang_3bvmv2</td></tr>\n",
       "<tr><td>H2O cluster total nodes:</td>\n",
       "<td>1</td></tr>\n",
       "<tr><td>H2O cluster free memory:</td>\n",
       "<td>2.372 Gb</td></tr>\n",
       "<tr><td>H2O cluster total cores:</td>\n",
       "<td>8</td></tr>\n",
       "<tr><td>H2O cluster allowed cores:</td>\n",
       "<td>8</td></tr>\n",
       "<tr><td>H2O cluster status:</td>\n",
       "<td>locked, healthy</td></tr>\n",
       "<tr><td>H2O connection url:</td>\n",
       "<td>http://localhost:54321</td></tr>\n",
       "<tr><td>H2O connection proxy:</td>\n",
       "<td>None</td></tr>\n",
       "<tr><td>H2O internal security:</td>\n",
       "<td>False</td></tr>\n",
       "<tr><td>Python version:</td>\n",
       "<td>3.5.2 final</td></tr></table></div>"
      ],
      "text/plain": [
       "--------------------------  ----------------------------------\n",
       "H2O cluster uptime:         8 mins 37 secs\n",
       "H2O cluster version:        3.10.4.5\n",
       "H2O cluster version age:    23 hours and 44 minutes\n",
       "H2O cluster name:           H2O_from_python_zihao_zhang_3bvmv2\n",
       "H2O cluster total nodes:    1\n",
       "H2O cluster free memory:    2.372 Gb\n",
       "H2O cluster total cores:    8\n",
       "H2O cluster allowed cores:  8\n",
       "H2O cluster status:         locked, healthy\n",
       "H2O connection url:         http://localhost:54321\n",
       "H2O connection proxy:\n",
       "H2O internal security:      False\n",
       "Python version:             3.5.2 final\n",
       "--------------------------  ----------------------------------"
      ]
     },
     "metadata": {},
     "output_type": "display_data"
    }
   ],
   "source": [
    "import h2o\n",
    "h2o.init()"
   ]
  },
  {
   "cell_type": "code",
   "execution_count": 56,
   "metadata": {
    "collapsed": false
   },
   "outputs": [
    {
     "name": "stdout",
     "output_type": "stream",
     "text": [
      "Parse progress: |█████████████████████████████████████████████████████████| 100%\n"
     ]
    }
   ],
   "source": [
    "trainFrame = h2o.import_file(path=\"C:/Users/zihao.zhang/Desktop/test.csv\")"
   ]
  },
  {
   "cell_type": "code",
   "execution_count": 64,
   "metadata": {
    "collapsed": false
   },
   "outputs": [],
   "source": [
    " from h2o.estimators.glm import H2OGeneralizedLinearEstimator "
   ]
  },
  {
   "cell_type": "code",
   "execution_count": 71,
   "metadata": {
    "collapsed": false
   },
   "outputs": [
    {
     "ename": "AttributeError",
     "evalue": "module 'h2o' has no attribute 'glm'",
     "output_type": "error",
     "traceback": [
      "\u001b[1;31m---------------------------------------------------------------------------\u001b[0m",
      "\u001b[1;31mAttributeError\u001b[0m                            Traceback (most recent call last)",
      "\u001b[1;32m<ipython-input-71-6b8d752c6f59>\u001b[0m in \u001b[0;36m<module>\u001b[1;34m()\u001b[0m\n\u001b[1;32m----> 1\u001b[1;33m \u001b[0mgaussian_fit\u001b[0m \u001b[1;33m=\u001b[0m \u001b[0mh2o\u001b[0m\u001b[1;33m.\u001b[0m\u001b[0mglm\u001b[0m\u001b[1;33m(\u001b[0m\u001b[0my\u001b[0m \u001b[1;33m=\u001b[0m \u001b[1;34m\"Y\"\u001b[0m\u001b[1;33m,\u001b[0m \u001b[0mx\u001b[0m \u001b[1;33m=\u001b[0m \u001b[1;33m[\u001b[0m\u001b[1;34m\"X1\"\u001b[0m\u001b[1;33m,\u001b[0m\u001b[1;34m\"X2\"\u001b[0m\u001b[1;33m,\u001b[0m\u001b[1;34m\"X3\"\u001b[0m\u001b[1;33m,\u001b[0m\u001b[1;34m\"X4\"\u001b[0m\u001b[1;33m,\u001b[0m\u001b[1;34m\"X5\"\u001b[0m\u001b[1;33m,\u001b[0m\u001b[1;34m\"X6\"\u001b[0m\u001b[1;33m,\u001b[0m\u001b[1;34m\"X7\"\u001b[0m\u001b[1;33m,\u001b[0m\u001b[1;34m\"X8\"\u001b[0m\u001b[1;33m,\u001b[0m\u001b[1;34m\"X9\"\u001b[0m\u001b[1;33m,\u001b[0m\u001b[1;34m\"X10\"\u001b[0m\u001b[1;33m]\u001b[0m\u001b[1;33m,\u001b[0m\u001b[0mtraining_frame\u001b[0m \u001b[1;33m=\u001b[0m\u001b[0mtrainFrame\u001b[0m\u001b[1;33m,\u001b[0m \u001b[0mfamily\u001b[0m \u001b[1;33m=\u001b[0m \u001b[1;34m\"gaussian\"\u001b[0m\u001b[1;33m)\u001b[0m\u001b[1;33m\u001b[0m\u001b[0m\n\u001b[0m",
      "\u001b[1;31mAttributeError\u001b[0m: module 'h2o' has no attribute 'glm'"
     ]
    }
   ],
   "source": [
    "gaussian_fit = h2o.glm(y = \"Y\", x = [\"X1\",\"X2\",\"X3\",\"X4\",\"X5\",\"X6\",\"X7\",\"X8\",\"X9\",\"X10\"],training_frame =trainFrame, family = \"gaussian\")"
   ]
  }
 ],
 "metadata": {
  "anaconda-cloud": {},
  "kernelspec": {
   "display_name": "Python [Root]",
   "language": "python",
   "name": "Python [Root]"
  },
  "language_info": {
   "codemirror_mode": {
    "name": "ipython",
    "version": 3
   },
   "file_extension": ".py",
   "mimetype": "text/x-python",
   "name": "python",
   "nbconvert_exporter": "python",
   "pygments_lexer": "ipython3",
   "version": "3.5.2"
  }
 },
 "nbformat": 4,
 "nbformat_minor": 2
}
